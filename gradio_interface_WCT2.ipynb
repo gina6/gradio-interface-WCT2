{
  "nbformat": 4,
  "nbformat_minor": 0,
  "metadata": {
    "colab": {
      "name": "gradio-interface-WCT2.ipynb",
      "provenance": [],
      "collapsed_sections": [],
      "mount_file_id": "1dS1w0WO7Rcvul7Zw-ztB5BwOmEiuTIsm",
      "authorship_tag": "ABX9TyPWgM/EiNbB6WF3YGPv3xpL",
      "include_colab_link": true
    },
    "kernelspec": {
      "name": "python3",
      "display_name": "Python 3"
    },
    "language_info": {
      "name": "python"
    },
    "accelerator": "GPU"
  },
  "cells": [
    {
      "cell_type": "markdown",
      "metadata": {
        "id": "view-in-github",
        "colab_type": "text"
      },
      "source": [
        "<a href=\"https://colab.research.google.com/github/gina6/gradio-interface-WCT2/blob/main/gradio_interface_WCT2.ipynb\" target=\"_parent\"><img src=\"https://colab.research.google.com/assets/colab-badge.svg\" alt=\"Open In Colab\"/></a>"
      ]
    },
    {
      "cell_type": "markdown",
      "source": [
        "# Photorealistic Style Transfer with a Gradio Interface\n",
        "With this notebook you can run a Gradio Interface where you can submit two images, the original image and a style image. The style from the style image will then be transfered to the original image while preserving the details of the orginal image. \n",
        "\n",
        "The origianl model was implemented with PyTorch by [Jaejun-yoo](https://github.com/jaejun-yoo) based on this paper [https://arxiv.org/abs/1903.09760](https://arxiv.org/abs/1903.09760)\n",
        "\n",
        "The model used in this notebook was implemented by [ptran1203](https://github.com/ptran1203) and [vunquitk11](https://github.com/vunquitk11) using Tensorflow and Keras.\n",
        "\n",
        "I added a Gradio Interface where you can upload your images and screenshot the output. "
      ],
      "metadata": {
        "id": "l2rhQFluKD4r"
      }
    },
    {
      "cell_type": "markdown",
      "source": [
        "## Clone the GitHub Repository\n",
        "The Tensorflow implementation was added as a submodule, which is why it is being updated."
      ],
      "metadata": {
        "id": "Tmo1Rbm7LyPp"
      }
    },
    {
      "cell_type": "code",
      "source": [
        "!git clone https://github.com/gina6/gradio-interface-WCT2\n",
        "%cd gradio-interface-WCT2/\n",
        "!git submodule update --init --recursive"
      ],
      "metadata": {
        "id": "iVaTzcNxe0zf"
      },
      "execution_count": null,
      "outputs": []
    },
    {
      "cell_type": "markdown",
      "source": [
        "## Install Gradio"
      ],
      "metadata": {
        "id": "jTa68NW-L_fH"
      }
    },
    {
      "cell_type": "code",
      "source": [
        "!pip install --quiet gradio"
      ],
      "metadata": {
        "id": "D7azmdxedY7g"
      },
      "execution_count": null,
      "outputs": []
    },
    {
      "cell_type": "markdown",
      "source": [
        "## Run the Interface\n",
        "To view the interface you will have to click on the \"public URL\"."
      ],
      "metadata": {
        "id": "vIBnfvcyMCFW"
      }
    },
    {
      "cell_type": "code",
      "source": [
        "!python app.py"
      ],
      "metadata": {
        "id": "0qKjThSvHof5"
      },
      "execution_count": null,
      "outputs": []
    }
  ]
}